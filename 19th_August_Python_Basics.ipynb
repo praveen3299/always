{
 "cells": [
  {
   "cell_type": "code",
   "execution_count": null,
   "metadata": {},
   "outputs": [],
   "source": [
    "#                   TOPIC: Python Basics Variable\n",
    "\"\"\" [Q1].  Declare two variables, `x` and `y`, and assign them integer values. Swap the\n",
    "          values of these variables without using any temporary variable.\"\"\"\n",
    "\n",
    "x = 10\n",
    "y = 2\n",
    "print(f'original value of\\n x ={x} \\n y = {y}')\n",
    "x,y = y,x         #multiline assignment\n",
    "print(f'swapped value of\\n x = {x} \\n y ={y}')"
   ]
  },
  {
   "cell_type": "code",
   "execution_count": null,
   "metadata": {},
   "outputs": [],
   "source": [
    "\"\"\"[Q 2.] Create a program that calculates the area of a rectangle. Take the length and\n",
    "            width as inputs from the user and store them in variables. Calculate and\n",
    "            display the area.\"\"\"\n",
    "\n",
    "lenght = float (input(\"type the lenght of rectangle \\n\"))\n",
    "width  = float (input(\"type the width of rectangle \\n\"))\n",
    "# Area of rectangle is that\n",
    "area_rectangle = lenght * width \n",
    "print('_'*50)\n",
    "print(f'\\n lenght = {lenght} \\n width = {width} \\n area of rectangle = {area_rectangle}')\n",
    "print('_'*50)"
   ]
  },
  {
   "cell_type": "code",
   "execution_count": null,
   "metadata": {},
   "outputs": [],
   "source": [
    "\"\"\" {Q.3] Write a Python program that converts temperatures from Celsius to\n",
    "          Fahrenheit. Take the temperature in Celsius as input, store it in a variable,\n",
    "          convert it to Fahrenheit, and display the result.\"\"\"\n",
    "\n",
    "celsius = float(input (\"type the temperature in celsius\\n\"))\n",
    "fahrenheit = celsius * 1.8 + 32    # formula for conversion\n",
    "print( f\"your given temperature is = {celsius} degree celsius\")\n",
    "print('_'*50)\n",
    "print( f\"{celsius} degree celsius = {fahrenheit} degree fahrenheit\")\n",
    "print('_'*50)                       "
   ]
  },
  {
   "cell_type": "code",
   "execution_count": null,
   "metadata": {},
   "outputs": [],
   "source": [
    "                           # TOPIC: String Based Questions\n",
    "\"\"\" [Q.1] Write a Python program that takes a string as input and prints the length of\n",
    "         the string.\"\"\"\n",
    "\n",
    "str = input(\"type any word\")\n",
    "length = len(str)\n",
    "print('_'*40)\n",
    "print(f'your given input is: \\n{str}')\n",
    "print('_'*40)\n",
    "print(f'length of your input is ={length}')\n",
    "\n"
   ]
  },
  {
   "cell_type": "code",
   "execution_count": null,
   "metadata": {},
   "outputs": [],
   "source": [
    "\"\"\" [Q.2] Create a program that takes a sentence from the user and counts the number\n",
    "          of vowels (a, e, i, o, u) in the string.\"\"\"\n",
    "\n",
    "sent = input('type any sentence \\n')\n",
    "vowels = \"aeiouAEIOU\"\n",
    "\n",
    "count_vow = 0\n",
    "for i in sent:\n",
    "    if i in vowels:\n",
    "        count_vow += 1\n",
    "        \n",
    "print(f'your given sentence is: \\n{sent}')\n",
    "print('_'*50)\n",
    "print(f'total vowel in your sentence is = {count_vow}') \n",
    "print('_'*50)       "
   ]
  },
  {
   "cell_type": "code",
   "execution_count": null,
   "metadata": {},
   "outputs": [],
   "source": [
    "\"\"\" [Q.3] Given a string, reverse the order of characters using string slicing and print\n",
    "         the reversed string.\"\"\"\n",
    "\n",
    "str = 'datascience'\n",
    "rev_str = str[::-1]    # reversed by slicing concept\n",
    "\n",
    "print(f'given string is:\\n{str}')\n",
    "print('_'*50)\n",
    "print(f'reversed string is :\\n{rev_str}')   \n",
    "print('_'*50)   \n",
    "     "
   ]
  },
  {
   "cell_type": "code",
   "execution_count": null,
   "metadata": {},
   "outputs": [],
   "source": [
    "\"\"\"[Q.4] Write a program that takes a string as input and checks if it is a palindrome\n",
    "         (reads the same forwards and backwards).\"\"\"\n",
    "\n",
    "str = input('type any word : ')\n",
    "\n",
    "str_up = str.upper()     # for handling case sensitivty\n",
    "\n",
    "str_rev = str_up[::-1]    # reversed the string\n",
    "\n",
    "print(\"-\"*50)\n",
    "print(f\"your given string is : {str}\")\n",
    "print(\"_\"*50)\n",
    "\n",
    "if str_up == str_rev:\n",
    "    print (f\" {str} is a palindrome.\")\n",
    "else:\n",
    "    print(f\"{str} is not a palindrome.\")    \n",
    "\n",
    "\n",
    "\n"
   ]
  },
  {
   "cell_type": "code",
   "execution_count": null,
   "metadata": {},
   "outputs": [],
   "source": [
    "\"\"\"[Q.5] Create a program that takes a string as input and removes all the spaces from\n",
    "         it. Print the modified string without spaces.\"\"\"\n",
    "\n",
    "str = input(\"type any sentence\")\n",
    "\n",
    "str_less = str.replace(\" \",\"\")       # removing all the spaces\n",
    "\n",
    "print(\"_\"*50)\n",
    "print(f'your given sentence is : \\n{str}')\n",
    "print(\"_\"*50)\n",
    "\n",
    "print(f\"sentence without any spaces is given below  : \\n{str_less} \")\n",
    "\n",
    "\n",
    "\n",
    "\n"
   ]
  }
 ],
 "metadata": {
  "kernelspec": {
   "display_name": "Python 3",
   "language": "python",
   "name": "python3"
  },
  "language_info": {
   "codemirror_mode": {
    "name": "ipython",
    "version": 3
   },
   "file_extension": ".py",
   "mimetype": "text/x-python",
   "name": "python",
   "nbconvert_exporter": "python",
   "pygments_lexer": "ipython3",
   "version": "3.8.3"
  },
  "orig_nbformat": 4
 },
 "nbformat": 4,
 "nbformat_minor": 2
}
